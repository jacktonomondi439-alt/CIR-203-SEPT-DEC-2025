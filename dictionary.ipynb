{
  "nbformat": 4,
  "nbformat_minor": 0,
  "metadata": {
    "colab": {
      "provenance": [],
      "authorship_tag": "ABX9TyO2M2LgyE/JEzaOzcx26E4x",
      "include_colab_link": true
    },
    "kernelspec": {
      "name": "python3",
      "display_name": "Python 3"
    },
    "language_info": {
      "name": "python"
    }
  },
  "cells": [
    {
      "cell_type": "markdown",
      "metadata": {
        "id": "view-in-github",
        "colab_type": "text"
      },
      "source": [
        "<a href=\"https://colab.research.google.com/github/jacktonomondi439-alt/CIR-203-SEPT-DEC-2025/blob/main/dictionary.ipynb\" target=\"_parent\"><img src=\"https://colab.research.google.com/assets/colab-badge.svg\" alt=\"Open In Colab\"/></a>"
      ]
    },
    {
      "cell_type": "code",
      "execution_count": null,
      "metadata": {
        "colab": {
          "base_uri": "https://localhost:8080/"
        },
        "id": "3CH0GUZt51aS",
        "outputId": "af698588-dacc-48e2-e46c-de029f08bd34"
      },
      "outputs": [
        {
          "output_type": "stream",
          "name": "stdout",
          "text": [
            "Initial inventory: {'Laptop': 35, 'Mouse': 150, 'Keyboard': 75, 'Monitor': 50, 'Webcam': 90}\n"
          ]
        }
      ],
      "source": [
        "# {product: stock_quantity}\n",
        "inventory = {\n",
        "    \"Laptop\": 35,\n",
        "    \"Mouse\": 150,\n",
        "    \"Keyboard\": 75,\n",
        "    \"Monitor\": 50,\n",
        "    \"Webcam\": 90\n",
        "}\n",
        "print(\"Initial inventory:\", inventory)"
      ]
    },
    {
      "cell_type": "code",
      "source": [
        "# Add a new product\n",
        "inventory[\"USB Hub\"] = 60\n",
        "print(\"\\nAfter adding USB Hub:\", inventory)\n",
        "\n",
        "# Update the quantity of an existing product\n",
        "inventory[\"Laptop\"] += 10 # or inventory[\"Laptop\"] = 45\n",
        "print(\"After updating Laptop stock:\", inventory)"
      ],
      "metadata": {
        "colab": {
          "base_uri": "https://localhost:8080/"
        },
        "id": "cj33__Us6Aoa",
        "outputId": "b7b0909a-336d-455f-9c5e-9da7cf88c708"
      },
      "execution_count": null,
      "outputs": [
        {
          "output_type": "stream",
          "name": "stdout",
          "text": [
            "\n",
            "After adding USB Hub: {'Laptop': 35, 'Mouse': 150, 'Keyboard': 75, 'Monitor': 50, 'Webcam': 90, 'USB Hub': 60}\n",
            "After updating Laptop stock: {'Laptop': 45, 'Mouse': 150, 'Keyboard': 75, 'Monitor': 50, 'Webcam': 90, 'USB Hub': 60}\n"
          ]
        }
      ]
    },
    {
      "cell_type": "code",
      "source": [
        "inventory[\"Mouse\"] = 8 # Adjusting for the function test\n",
        "\n",
        "def find_low_stock(stock_dict, threshold):\n",
        "    \"\"\"Returns a list of products with stock below a certain threshold.\"\"\"\n",
        "    low_stock_items = []\n",
        "    for product, quantity in stock_dict.items():\n",
        "        if quantity < threshold:\n",
        "            low_stock_items.append(product)\n",
        "    return low_stock_items\n",
        "\n",
        "# Find products with stock less than 10\n",
        "products_to_reorder = find_low_stock(inventory, 10)\n",
        "print(f\"\\nProducts with stock less than 10: {products_to_reorder}\")"
      ],
      "metadata": {
        "colab": {
          "base_uri": "https://localhost:8080/"
        },
        "id": "QfMjVY_46GfJ",
        "outputId": "4db4a555-892a-434b-a109-4b9b57a04e2d"
      },
      "execution_count": null,
      "outputs": [
        {
          "output_type": "stream",
          "name": "stdout",
          "text": [
            "\n",
            "Products with stock less than 10: ['Mouse']\n"
          ]
        }
      ]
    },
    {
      "cell_type": "code",
      "source": [
        "# Let's say 'Webcam' is discontinued\n",
        "del inventory[\"Webcam\"]\n",
        "print(\"\\nInventory after deleting Webcam:\", inventory)"
      ],
      "metadata": {
        "colab": {
          "base_uri": "https://localhost:8080/"
        },
        "id": "ashW-qYr6OpT",
        "outputId": "349ffcd4-8ea0-46ae-8e9f-d23a6d1c0e64"
      },
      "execution_count": null,
      "outputs": [
        {
          "output_type": "stream",
          "name": "stdout",
          "text": [
            "\n",
            "Inventory after deleting Webcam: {'Laptop': 45, 'Mouse': 8, 'Keyboard': 75, 'Monitor': 50, 'USB Hub': 60}\n"
          ]
        }
      ]
    },
    {
      "cell_type": "code",
      "source": [
        "print(\"\\nCurrent Product Inventory:\")\n",
        "for product, quantity in inventory.items():\n",
        "    print(f\"- Product: {product}, Quantity: {quantity}\")"
      ],
      "metadata": {
        "colab": {
          "base_uri": "https://localhost:8080/"
        },
        "id": "KHm4y6PB6Wix",
        "outputId": "7250fa06-d19f-491b-f4e8-a243c588dc5e"
      },
      "execution_count": null,
      "outputs": [
        {
          "output_type": "stream",
          "name": "stdout",
          "text": [
            "\n",
            "Current Product Inventory:\n",
            "- Product: Laptop, Quantity: 45\n",
            "- Product: Mouse, Quantity: 8\n",
            "- Product: Keyboard, Quantity: 75\n",
            "- Product: Monitor, Quantity: 50\n",
            "- Product: USB Hub, Quantity: 60\n"
          ]
        }
      ]
    }
  ]
}