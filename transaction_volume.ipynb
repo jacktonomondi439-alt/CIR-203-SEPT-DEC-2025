{
  "nbformat": 4,
  "nbformat_minor": 0,
  "metadata": {
    "colab": {
      "provenance": [],
      "authorship_tag": "ABX9TyMD20huTxHC70innI28/os8",
      "include_colab_link": true
    },
    "kernelspec": {
      "name": "python3",
      "display_name": "Python 3"
    },
    "language_info": {
      "name": "python"
    }
  },
  "cells": [
    {
      "cell_type": "markdown",
      "metadata": {
        "id": "view-in-github",
        "colab_type": "text"
      },
      "source": [
        "<a href=\"https://colab.research.google.com/github/jacktonomondi439-alt/CIR-203-SEPT-DEC-2025/blob/main/transaction_volume.ipynb\" target=\"_parent\"><img src=\"https://colab.research.google.com/assets/colab-badge.svg\" alt=\"Open In Colab\"/></a>"
      ]
    },
    {
      "cell_type": "code",
      "execution_count": null,
      "metadata": {
        "colab": {
          "base_uri": "https://localhost:8080/"
        },
        "id": "SrGi7oWf2aXJ",
        "outputId": "1ca1b165-eb57-42b3-efa6-50e55f241cf9"
      },
      "outputs": [
        {
          "output_type": "stream",
          "name": "stdout",
          "text": [
            "2D NumPy Array of Transaction Volumes:\n",
            "[[1200 1350 1100 1400 1550 1450]\n",
            " [ 900  950 1050 1100 1000  980]\n",
            " [1800 1950 2050 2100 2000 1980]\n",
            " [ 750  800  820  780  850  880]]\n"
          ]
        }
      ],
      "source": [
        "import numpy as np\n",
        "\n",
        "# Let's assume some transaction volume data (in thousands)\n",
        "# Each row is a branch, each column is a month.\n",
        "transaction_volumes = np.array([\n",
        "    [1200, 1350, 1100, 1400, 1550, 1450],  # Branch 1\n",
        "    [900, 950, 1050, 1100, 1000, 980],    # Branch 2\n",
        "    [1800, 1950, 2050, 2100, 2000, 1980],  # Branch 3\n",
        "    [750, 800, 820, 780, 850, 880]        # Branch 4\n",
        "])\n",
        "\n",
        "print(\"2D NumPy Array of Transaction Volumes:\")\n",
        "print(transaction_volumes)"
      ]
    },
    {
      "cell_type": "code",
      "source": [
        "total_per_branch = np.sum(transaction_volumes, axis=1)\n",
        "\n",
        "for i, total in enumerate(total_per_branch):\n",
        "    print(f\"Branch {i+1} Total Transactions: {total}\")"
      ],
      "metadata": {
        "colab": {
          "base_uri": "https://localhost:8080/"
        },
        "id": "SYB02UMw3FZq",
        "outputId": "93fa2784-eb19-43cb-9691-0471ea3aa450"
      },
      "execution_count": null,
      "outputs": [
        {
          "output_type": "stream",
          "name": "stdout",
          "text": [
            "Branch 1 Total Transactions: 8050\n",
            "Branch 2 Total Transactions: 5980\n",
            "Branch 3 Total Transactions: 11880\n",
            "Branch 4 Total Transactions: 4880\n"
          ]
        }
      ]
    },
    {
      "cell_type": "code",
      "source": [
        "highest_branch_index = np.argmax(total_per_branch)\n",
        "# Add 1 to the index because branches are 1-4, while indices are 0-3\n",
        "print(f\"\\nThe branch with the highest transaction volume is: Branch {highest_branch_index + 1}\")"
      ],
      "metadata": {
        "colab": {
          "base_uri": "https://localhost:8080/"
        },
        "id": "de5LlehT3IwL",
        "outputId": "d917a05f-583b-4232-b3e5-57bc4230cafd"
      },
      "execution_count": null,
      "outputs": [
        {
          "output_type": "stream",
          "name": "stdout",
          "text": [
            "\n",
            "The branch with the highest transaction volume is: Branch 3\n"
          ]
        }
      ]
    },
    {
      "cell_type": "code",
      "source": [
        "average_monthly_volume = np.mean(transaction_volumes, axis=0)\n",
        "\n",
        "for i, avg in enumerate(average_monthly_volume):\n",
        "    print(f\"Month {i+1} Average Volume: {avg:.2f}\")\n",
        "\n",
        "# Overall average across all branches and months\n",
        "overall_average = np.mean(transaction_volumes)\n",
        "print(f\"\\nOverall average monthly transaction volume: {overall_average:.2f}\")"
      ],
      "metadata": {
        "colab": {
          "base_uri": "https://localhost:8080/"
        },
        "id": "3Uk40zT23eHT",
        "outputId": "25a23b3b-7e47-4052-f687-930dadf0cd70"
      },
      "execution_count": null,
      "outputs": [
        {
          "output_type": "stream",
          "name": "stdout",
          "text": [
            "Month 1 Average Volume: 1162.50\n",
            "Month 2 Average Volume: 1262.50\n",
            "Month 3 Average Volume: 1255.00\n",
            "Month 4 Average Volume: 1345.00\n",
            "Month 5 Average Volume: 1350.00\n",
            "Month 6 Average Volume: 1322.50\n",
            "\n",
            "Overall average monthly transaction volume: 1282.92\n"
          ]
        }
      ]
    },
    {
      "cell_type": "code",
      "source": [
        "reshaped_array = transaction_volumes.reshape(3, 8)\n",
        "\n",
        "print(\"\\nReshaped Array (3x8):\")\n",
        "print(reshaped_array)"
      ],
      "metadata": {
        "colab": {
          "base_uri": "https://localhost:8080/"
        },
        "id": "DaRifU0C3iW3",
        "outputId": "ecfd2d93-ccfd-4855-fe24-6c9a5d2fc039"
      },
      "execution_count": null,
      "outputs": [
        {
          "output_type": "stream",
          "name": "stdout",
          "text": [
            "\n",
            "Reshaped Array (3x8):\n",
            "[[1200 1350 1100 1400 1550 1450  900  950]\n",
            " [1050 1100 1000  980 1800 1950 2050 2100]\n",
            " [2000 1980  750  800  820  780  850  880]]\n"
          ]
        }
      ]
    }
  ]
}