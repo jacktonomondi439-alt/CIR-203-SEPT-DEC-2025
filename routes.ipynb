{
  "nbformat": 4,
  "nbformat_minor": 0,
  "metadata": {
    "colab": {
      "provenance": [],
      "authorship_tag": "ABX9TyOSIufEfwxyOv8ZHcg1Ajkx",
      "include_colab_link": true
    },
    "kernelspec": {
      "name": "python3",
      "display_name": "Python 3"
    },
    "language_info": {
      "name": "python"
    }
  },
  "cells": [
    {
      "cell_type": "markdown",
      "metadata": {
        "id": "view-in-github",
        "colab_type": "text"
      },
      "source": [
        "<a href=\"https://colab.research.google.com/github/jacktonomondi439-alt/CIR-203-SEPT-DEC-2025/blob/main/routes.ipynb\" target=\"_parent\"><img src=\"https://colab.research.google.com/assets/colab-badge.svg\" alt=\"Open In Colab\"/></a>"
      ]
    },
    {
      "cell_type": "code",
      "execution_count": null,
      "metadata": {
        "colab": {
          "base_uri": "https://localhost:8080/"
        },
        "id": "EitPH5Dq4SLg",
        "outputId": "100516be-827c-4f58-87b2-d7928dcccedc"
      },
      "outputs": [
        {
          "output_type": "stream",
          "name": "stdout",
          "text": [
            "Original routes: ['Nairobi to Mombasa', 'Eldoret to Nakuru', 'Kisumu to Kakamega', 'Mombasa to Malindi', 'Nairobi to Thika', 'Nakuru to Naivasha', 'Garissa to Wajir', 'Nyeri to Embu', 'Kisii to Migori', 'Nairobi to Kisumu']\n"
          ]
        }
      ],
      "source": [
        "delivery_routes = [\n",
        "    \"Nairobi to Mombasa\",\n",
        "    \"Eldoret to Nakuru\",\n",
        "    \"Kisumu to Kakamega\",\n",
        "    \"Mombasa to Malindi\",\n",
        "    \"Nairobi to Thika\",\n",
        "    \"Nakuru to Naivasha\",\n",
        "    \"Garissa to Wajir\",\n",
        "    \"Nyeri to Embu\",\n",
        "    \"Kisii to Migori\",\n",
        "    \"Nairobi to Kisumu\"\n",
        "]\n",
        "print(\"Original routes:\", delivery_routes)"
      ]
    },
    {
      "cell_type": "code",
      "source": [
        "# Append a new route\n",
        "delivery_routes.append(\"Isiolo to Marsabit\")\n",
        "print(\"\\nAfter adding a route:\", delivery_routes)\n",
        "\n",
        "# Remove a discontinued route\n",
        "delivery_routes.remove(\"Garissa to Wajir\")\n",
        "print(\"\\nAfter removing a route:\", delivery_routes)"
      ],
      "metadata": {
        "colab": {
          "base_uri": "https://localhost:8080/"
        },
        "id": "N5iyOFtx4Yfq",
        "outputId": "432828b4-d2e9-4a66-af1d-4176c2f86501"
      },
      "execution_count": null,
      "outputs": [
        {
          "output_type": "stream",
          "name": "stdout",
          "text": [
            "\n",
            "After adding a route: ['Nairobi to Mombasa', 'Eldoret to Nakuru', 'Kisumu to Kakamega', 'Mombasa to Malindi', 'Nairobi to Thika', 'Nakuru to Naivasha', 'Garissa to Wajir', 'Nyeri to Embu', 'Kisii to Migori', 'Nairobi to Kisumu', 'Isiolo to Marsabit']\n",
            "\n",
            "After removing a route: ['Nairobi to Mombasa', 'Eldoret to Nakuru', 'Kisumu to Kakamega', 'Mombasa to Malindi', 'Nairobi to Thika', 'Nakuru to Naivasha', 'Nyeri to Embu', 'Kisii to Migori', 'Nairobi to Kisumu', 'Isiolo to Marsabit']\n"
          ]
        }
      ]
    },
    {
      "cell_type": "code",
      "source": [
        "# Sort alphabetically\n",
        "delivery_routes.sort()\n",
        "print(\"\\nSorted alphabetically:\", delivery_routes)\n",
        "\n",
        "# Reverse the sorted list\n",
        "delivery_routes.reverse()\n",
        "print(\"\\nReversed list:\", delivery_routes)"
      ],
      "metadata": {
        "colab": {
          "base_uri": "https://localhost:8080/"
        },
        "id": "A1EtyEbg4dUa",
        "outputId": "eec19d33-a0f8-4e58-d46b-88a514184215"
      },
      "execution_count": null,
      "outputs": [
        {
          "output_type": "stream",
          "name": "stdout",
          "text": [
            "\n",
            "Sorted alphabetically: ['Eldoret to Nakuru', 'Isiolo to Marsabit', 'Kisii to Migori', 'Kisumu to Kakamega', 'Mombasa to Malindi', 'Nairobi to Kisumu', 'Nairobi to Mombasa', 'Nairobi to Thika', 'Nakuru to Naivasha', 'Nyeri to Embu']\n",
            "\n",
            "Reversed list: ['Nyeri to Embu', 'Nakuru to Naivasha', 'Nairobi to Thika', 'Nairobi to Mombasa', 'Nairobi to Kisumu', 'Mombasa to Malindi', 'Kisumu to Kakamega', 'Kisii to Migori', 'Isiolo to Marsabit', 'Eldoret to Nakuru']\n"
          ]
        }
      ]
    },
    {
      "cell_type": "code",
      "source": [
        "count = 0\n",
        "for route in delivery_routes:\n",
        "    if route.startswith(\"N\"):\n",
        "        count += 1\n",
        "\n",
        "print(f\"\\nNumber of routes starting with 'N': {count}\")"
      ],
      "metadata": {
        "colab": {
          "base_uri": "https://localhost:8080/"
        },
        "id": "s4J_cEJB4mHl",
        "outputId": "8a99fe21-dc51-4780-dd9c-95985759966d"
      },
      "execution_count": null,
      "outputs": [
        {
          "output_type": "stream",
          "name": "stdout",
          "text": [
            "\n",
            "Number of routes starting with 'N': 5\n"
          ]
        }
      ]
    },
    {
      "cell_type": "code",
      "source": [
        "long_routes = [route for route in delivery_routes if len(route) > 18]\n",
        "\n",
        "print(\"\\nRoutes longer than 18 characters:\", long_routes)"
      ],
      "metadata": {
        "colab": {
          "base_uri": "https://localhost:8080/"
        },
        "id": "oSxAkzzI4ryv",
        "outputId": "df66d1cf-78b7-499a-ca8f-7ac25663f46b"
      },
      "execution_count": null,
      "outputs": [
        {
          "output_type": "stream",
          "name": "stdout",
          "text": [
            "\n",
            "Routes longer than 18 characters: []\n"
          ]
        }
      ]
    }
  ]
}